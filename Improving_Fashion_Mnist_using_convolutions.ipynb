{
  "nbformat": 4,
  "nbformat_minor": 0,
  "metadata": {
    "colab": {
      "name": "Improving Fashion Mnist using convolutions.ipynb",
      "provenance": [],
      "authorship_tag": "ABX9TyOMbzgNwcnpCZMHK0YvvN/H",
      "include_colab_link": true
    },
    "kernelspec": {
      "name": "python3",
      "display_name": "Python 3"
    },
    "accelerator": "GPU"
  },
  "cells": [
    {
      "cell_type": "markdown",
      "metadata": {
        "id": "view-in-github",
        "colab_type": "text"
      },
      "source": [
        "<a href=\"https://colab.research.google.com/github/kushantp58/Neural-Nets-Repo/blob/master/Improving_Fashion_Mnist_using_convolutions.ipynb\" target=\"_parent\"><img src=\"https://colab.research.google.com/assets/colab-badge.svg\" alt=\"Open In Colab\"/></a>"
      ]
    },
    {
      "cell_type": "markdown",
      "metadata": {
        "id": "Jcur-geUZO2b"
      },
      "source": [
        "improve MNIST to 99.8% accuracy or more using only a single convolutional layer and a single MaxPooling 2D. Training will stop once the accuracy goes above accuracy threshold. It should happen in less than 20 epochs, so it's ok to hard code the number of epochs for training, but your training must end once it hits the above metric. If it doesn't, then you'll need to redesign your layers."
      ]
    },
    {
      "cell_type": "code",
      "metadata": {
        "id": "4Fw35dCiRnEJ"
      },
      "source": [
        "import tensorflow as tf\n",
        "from os import path, getcwd, chdir\n",
        "\n",
        "# DO NOT CHANGE THE LINE BELOW. If you are developing in a local\n",
        "# environment, then grab mnist.npz from the Coursera Jupyter Notebook\n",
        "# and place it inside a local folder and edit the path to that location\n",
        "path = f\"{getcwd()}/../tmp2/mnist.npz\"\n",
        "ACC_THRESHOLD = 0.998 # try to set your accuracy threshold"
      ],
      "execution_count": 8,
      "outputs": []
    },
    {
      "cell_type": "code",
      "metadata": {
        "id": "NEK3dqX2ZVI7",
        "outputId": "609c49a3-80f7-4183-e9e4-eaf475bfc246",
        "colab": {
          "base_uri": "https://localhost:8080/",
          "height": 35
        }
      },
      "source": [
        "#config = tf.ConfigProto()\n",
        "#config.gpu_options.allow_growth = True\n",
        "#sess = tf.Session(config=config)\n",
        "print(tf.__version__)\n",
        "class callback_(tf.keras.callbacks.Callback):\n",
        "    def on_epoch_end(self,epochs,logs={}):\n",
        "        if(logs.get('accuracy')> ACC_THRESHOLD):\n",
        "            print(\"\\n Reached 99.8% accuracy so cancelling training !!\")\n",
        "            self.model.stop_training=True"
      ],
      "execution_count": 12,
      "outputs": [
        {
          "output_type": "stream",
          "text": [
            "2.3.0\n"
          ],
          "name": "stdout"
        }
      ]
    },
    {
      "cell_type": "code",
      "metadata": {
        "id": "t8rK1GrKZXqM"
      },
      "source": [
        "# GRADED FUNCTION: train_mnist_conv\n",
        "def train_mnist_conv():\n",
        "    mnist = tf.keras.datasets.mnist\n",
        "    (training_images, training_labels), (test_images, test_labels) = mnist.load_data()\n",
        "    print(training_images.shape)\n",
        "    print(test_images.shape)\n",
        "    training_images = training_images.reshape(60000,28,28,1)\n",
        "    training_images = training_images/255.0\n",
        "    test_images = test_images.reshape(10000,28,28,1)\n",
        "    model = tf.keras.models.Sequential([\n",
        "        tf.keras.layers.Conv2D(64,(3,3),activation='relu',input_shape=(28,28,1)),\n",
        "        tf.keras.layers.MaxPooling2D(2,2),\n",
        "        tf.keras.layers.Conv2D(64,(3,3),activation='relu'),\n",
        "        tf.keras.layers.Flatten(),\n",
        "        tf.keras.layers.Dense(128,activation='relu'),\n",
        "        tf.keras.layers.Dense(10,activation='softmax')\n",
        "    ])\n",
        "\n",
        "\n",
        "    model.compile(optimizer='adam', loss='sparse_categorical_crossentropy', metrics=['accuracy'])\n",
        "    model.summary()\n",
        "    history = model.fit(training_images,training_labels,epochs=10,callbacks=[callbacks])\n",
        "    return history.epoch, history.history['accuracy'][-1]\n",
        "\n"
      ],
      "execution_count": 15,
      "outputs": []
    },
    {
      "cell_type": "code",
      "metadata": {
        "id": "pA3zP08BZkYu",
        "outputId": "94db0570-6d88-4b21-dae9-87a0cef4f999",
        "colab": {
          "base_uri": "https://localhost:8080/",
          "height": 744
        }
      },
      "source": [
        "callbacks = callback_()\n",
        "epochs,loss = train_mnist_conv()"
      ],
      "execution_count": 16,
      "outputs": [
        {
          "output_type": "stream",
          "text": [
            "(60000, 28, 28)\n",
            "(10000, 28, 28)\n",
            "Model: \"sequential_3\"\n",
            "_________________________________________________________________\n",
            "Layer (type)                 Output Shape              Param #   \n",
            "=================================================================\n",
            "conv2d_6 (Conv2D)            (None, 26, 26, 64)        640       \n",
            "_________________________________________________________________\n",
            "max_pooling2d_3 (MaxPooling2 (None, 13, 13, 64)        0         \n",
            "_________________________________________________________________\n",
            "conv2d_7 (Conv2D)            (None, 11, 11, 64)        36928     \n",
            "_________________________________________________________________\n",
            "flatten_3 (Flatten)          (None, 7744)              0         \n",
            "_________________________________________________________________\n",
            "dense_6 (Dense)              (None, 128)               991360    \n",
            "_________________________________________________________________\n",
            "dense_7 (Dense)              (None, 10)                1290      \n",
            "=================================================================\n",
            "Total params: 1,030,218\n",
            "Trainable params: 1,030,218\n",
            "Non-trainable params: 0\n",
            "_________________________________________________________________\n",
            "Epoch 1/10\n",
            "1875/1875 [==============================] - 5s 3ms/step - loss: 0.1092 - accuracy: 0.9660\n",
            "Epoch 2/10\n",
            "1875/1875 [==============================] - 5s 2ms/step - loss: 0.0369 - accuracy: 0.9885\n",
            "Epoch 3/10\n",
            "1875/1875 [==============================] - 5s 2ms/step - loss: 0.0230 - accuracy: 0.9927\n",
            "Epoch 4/10\n",
            "1875/1875 [==============================] - 5s 2ms/step - loss: 0.0158 - accuracy: 0.9949\n",
            "Epoch 5/10\n",
            "1875/1875 [==============================] - 5s 2ms/step - loss: 0.0106 - accuracy: 0.9966\n",
            "Epoch 6/10\n",
            "1875/1875 [==============================] - 5s 2ms/step - loss: 0.0092 - accuracy: 0.9970\n",
            "Epoch 7/10\n",
            "1875/1875 [==============================] - 5s 2ms/step - loss: 0.0068 - accuracy: 0.9979\n",
            "Epoch 8/10\n",
            "1875/1875 [==============================] - ETA: 0s - loss: 0.0065 - accuracy: 0.9981\n",
            " Reached 99.8% accuracy so cancelling training !!\n",
            "1875/1875 [==============================] - 5s 2ms/step - loss: 0.0065 - accuracy: 0.9981\n"
          ],
          "name": "stdout"
        }
      ]
    },
    {
      "cell_type": "code",
      "metadata": {
        "id": "qgkOMzy2ZnIB"
      },
      "source": [
        ""
      ],
      "execution_count": null,
      "outputs": []
    }
  ]
}